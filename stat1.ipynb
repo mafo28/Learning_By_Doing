{
 "cells": [
  {
   "cell_type": "code",
   "execution_count": 6,
   "id": "53db8464-f2bf-4e92-9838-91187cdc9363",
   "metadata": {},
   "outputs": [],
   "source": [
    "import numpy as np\n",
    "import pandas as pd\n",
    "import seaborn as sns"
   ]
  },
  {
   "cell_type": "markdown",
   "id": "fa071aa8-0159-41a3-b5d5-6ac8bd987e93",
   "metadata": {},
   "source": [
    "# Univariate Data : \n",
    "result when a single variable is measured on a single experiment unit\n",
    "\n",
    "### Univariate data : taille\n",
    "### experiment unit: un etudiant"
   ]
  },
  {
   "cell_type": "code",
   "execution_count": 15,
   "id": "e7c3400c-b174-41e2-9aac-2a555e376838",
   "metadata": {},
   "outputs": [
    {
     "data": {
      "text/html": [
       "<div>\n",
       "<style scoped>\n",
       "    .dataframe tbody tr th:only-of-type {\n",
       "        vertical-align: middle;\n",
       "    }\n",
       "\n",
       "    .dataframe tbody tr th {\n",
       "        vertical-align: top;\n",
       "    }\n",
       "\n",
       "    .dataframe thead th {\n",
       "        text-align: right;\n",
       "    }\n",
       "</style>\n",
       "<table border=\"1\" class=\"dataframe\">\n",
       "  <thead>\n",
       "    <tr style=\"text-align: right;\">\n",
       "      <th></th>\n",
       "      <th>Etudiants</th>\n",
       "      <th>Taille (en cm)</th>\n",
       "    </tr>\n",
       "  </thead>\n",
       "  <tbody>\n",
       "    <tr>\n",
       "      <th>0</th>\n",
       "      <td>Etudiant 1</td>\n",
       "      <td>154</td>\n",
       "    </tr>\n",
       "    <tr>\n",
       "      <th>1</th>\n",
       "      <td>Etudiant 2</td>\n",
       "      <td>155</td>\n",
       "    </tr>\n",
       "    <tr>\n",
       "      <th>2</th>\n",
       "      <td>Etudiant 3</td>\n",
       "      <td>157</td>\n",
       "    </tr>\n",
       "    <tr>\n",
       "      <th>3</th>\n",
       "      <td>Etudiant 4</td>\n",
       "      <td>159</td>\n",
       "    </tr>\n",
       "    <tr>\n",
       "      <th>4</th>\n",
       "      <td>Etudiant 5</td>\n",
       "      <td>159</td>\n",
       "    </tr>\n",
       "  </tbody>\n",
       "</table>\n",
       "</div>"
      ],
      "text/plain": [
       "    Etudiants  Taille (en cm)\n",
       "0  Etudiant 1             154\n",
       "1  Etudiant 2             155\n",
       "2  Etudiant 3             157\n",
       "3  Etudiant 4             159\n",
       "4  Etudiant 5             159"
      ]
     },
     "execution_count": 15,
     "metadata": {},
     "output_type": "execute_result"
    }
   ],
   "source": [
    "taille_etudiant = pd.DataFrame({\n",
    "    'Etudiants': ['Etudiant 1', 'Etudiant 2', 'Etudiant 3', 'Etudiant 4', 'Etudiant 5', 'Etudiant 6', 'Etudiant 7', 'Etudiant 8','Etudiant 9',\n",
    "                 'Etudiant 10', 'Etudiant 11', 'Etudiant 12', 'Etudiant 13', 'Etudiant 14', 'Etudiant 15', 'Etudiant 16', 'Etudiant 17', 'Etudiant 18',\n",
    "                 'Etudiant 19', 'Etudiant 20', 'Etudiant 21', 'Etudiant 22', 'Etudiant 23', 'Etudiant 24', 'Etudiant 25', 'Etudiant 26', 'Etudiant 27',\n",
    "                 'Etudiant 28', 'Etudiant 29', 'Etudiant 30'],\n",
    "    'Taille (en cm)': [154, 155, 157, 159, 159, 160, 161, 164, 164, 164,\n",
    "                       165, 168, 168, 168, 170, 170, 175, 175, 178, 179, \n",
    "                       180, 183, 184, 185, 186, 187,188, 188, 189, 190]\n",
    "})\n",
    "taille_etudiant.head()"
   ]
  },
  {
   "cell_type": "code",
   "execution_count": 16,
   "id": "f1f961ad-5080-4522-910e-d5fe893d0ca8",
   "metadata": {},
   "outputs": [
    {
     "data": {
      "text/html": [
       "<div>\n",
       "<style scoped>\n",
       "    .dataframe tbody tr th:only-of-type {\n",
       "        vertical-align: middle;\n",
       "    }\n",
       "\n",
       "    .dataframe tbody tr th {\n",
       "        vertical-align: top;\n",
       "    }\n",
       "\n",
       "    .dataframe thead th {\n",
       "        text-align: right;\n",
       "    }\n",
       "</style>\n",
       "<table border=\"1\" class=\"dataframe\">\n",
       "  <thead>\n",
       "    <tr style=\"text-align: right;\">\n",
       "      <th></th>\n",
       "      <th>Taille (en cm)</th>\n",
       "    </tr>\n",
       "  </thead>\n",
       "  <tbody>\n",
       "    <tr>\n",
       "      <th>count</th>\n",
       "      <td>30.000000</td>\n",
       "    </tr>\n",
       "    <tr>\n",
       "      <th>mean</th>\n",
       "      <td>172.433333</td>\n",
       "    </tr>\n",
       "    <tr>\n",
       "      <th>std</th>\n",
       "      <td>11.565953</td>\n",
       "    </tr>\n",
       "    <tr>\n",
       "      <th>min</th>\n",
       "      <td>154.000000</td>\n",
       "    </tr>\n",
       "    <tr>\n",
       "      <th>25%</th>\n",
       "      <td>164.000000</td>\n",
       "    </tr>\n",
       "    <tr>\n",
       "      <th>50%</th>\n",
       "      <td>170.000000</td>\n",
       "    </tr>\n",
       "    <tr>\n",
       "      <th>75%</th>\n",
       "      <td>183.750000</td>\n",
       "    </tr>\n",
       "    <tr>\n",
       "      <th>max</th>\n",
       "      <td>190.000000</td>\n",
       "    </tr>\n",
       "  </tbody>\n",
       "</table>\n",
       "</div>"
      ],
      "text/plain": [
       "       Taille (en cm)\n",
       "count       30.000000\n",
       "mean       172.433333\n",
       "std         11.565953\n",
       "min        154.000000\n",
       "25%        164.000000\n",
       "50%        170.000000\n",
       "75%        183.750000\n",
       "max        190.000000"
      ]
     },
     "execution_count": 16,
     "metadata": {},
     "output_type": "execute_result"
    }
   ],
   "source": [
    "taille_etudiant.describe()"
   ]
  },
  {
   "cell_type": "code",
   "execution_count": 17,
   "id": "631144bd-0e31-49e9-be20-01533f3b8d7b",
   "metadata": {},
   "outputs": [
    {
     "data": {
      "text/plain": [
       "<Axes: xlabel='Taille (en cm)', ylabel='Etudiants'>"
      ]
     },
     "execution_count": 17,
     "metadata": {},
     "output_type": "execute_result"
    },
    {
     "data": {
      "image/png": "[encoded data removed]",
      "text/plain": [
       "<Figure size 640x480 with 1 Axes>"
      ]
     },
     "metadata": {},
     "output_type": "display_data"
    }
   ],
   "source": [
    "sns.boxplot(x= 'Taille (en cm)', y= 'Etudiants', data = taille_etudiant)"
   ]
  },
  {
   "cell_type": "markdown",
   "id": "7e32a2c2-001d-4eee-b5e1-8b37ec3d6ab0",
   "metadata": {},
   "source": [
    "## Bivariate Data and Multivariate Data\n",
    "* Bivariate data result when two variables are measured on a single\r\n",
    "experimental unit.\n",
    "*  Multivariate data result when more than two variables are measured"
   ]
  },
  {
   "cell_type": "code",
   "execution_count": 25,
   "id": "1ae7457d-32fb-41bc-8b14-e5b7c75d9beb",
   "metadata": {},
   "outputs": [
    {
     "data": {
      "text/html": [
       "<div>\n",
       "<style scoped>\n",
       "    .dataframe tbody tr th:only-of-type {\n",
       "        vertical-align: middle;\n",
       "    }\n",
       "\n",
       "    .dataframe tbody tr th {\n",
       "        vertical-align: top;\n",
       "    }\n",
       "\n",
       "    .dataframe thead th {\n",
       "        text-align: right;\n",
       "    }\n",
       "</style>\n",
       "<table border=\"1\" class=\"dataframe\">\n",
       "  <thead>\n",
       "    <tr style=\"text-align: right;\">\n",
       "      <th></th>\n",
       "      <th>Etudiants</th>\n",
       "      <th>Taille (en cm)</th>\n",
       "      <th>poids (en kg)</th>\n",
       "    </tr>\n",
       "  </thead>\n",
       "  <tbody>\n",
       "    <tr>\n",
       "      <th>0</th>\n",
       "      <td>Etudiant 1</td>\n",
       "      <td>154</td>\n",
       "      <td>100.0</td>\n",
       "    </tr>\n",
       "    <tr>\n",
       "      <th>1</th>\n",
       "      <td>Etudiant 2</td>\n",
       "      <td>155</td>\n",
       "      <td>50.0</td>\n",
       "    </tr>\n",
       "    <tr>\n",
       "      <th>2</th>\n",
       "      <td>Etudiant 3</td>\n",
       "      <td>157</td>\n",
       "      <td>80.0</td>\n",
       "    </tr>\n",
       "    <tr>\n",
       "      <th>3</th>\n",
       "      <td>Etudiant 4</td>\n",
       "      <td>159</td>\n",
       "      <td>59.0</td>\n",
       "    </tr>\n",
       "    <tr>\n",
       "      <th>4</th>\n",
       "      <td>Etudiant 5</td>\n",
       "      <td>159</td>\n",
       "      <td>90.0</td>\n",
       "    </tr>\n",
       "  </tbody>\n",
       "</table>\n",
       "</div>"
      ],
      "text/plain": [
       "    Etudiants  Taille (en cm)  poids (en kg)\n",
       "0  Etudiant 1             154          100.0\n",
       "1  Etudiant 2             155           50.0\n",
       "2  Etudiant 3             157           80.0\n",
       "3  Etudiant 4             159           59.0\n",
       "4  Etudiant 5             159           90.0"
      ]
     },
     "execution_count": 25,
     "metadata": {},
     "output_type": "execute_result"
    }
   ],
   "source": [
    "data_etudiant = pd.DataFrame({\n",
    "    'Etudiants': ['Etudiant 1', 'Etudiant 2', 'Etudiant 3', 'Etudiant 4', 'Etudiant 5', 'Etudiant 6', 'Etudiant 7', 'Etudiant 8','Etudiant 9',\n",
    "                 'Etudiant 10', 'Etudiant 11', 'Etudiant 12', 'Etudiant 13', 'Etudiant 14', 'Etudiant 15', 'Etudiant 16', 'Etudiant 17', 'Etudiant 18',\n",
    "                 'Etudiant 19', 'Etudiant 20', 'Etudiant 21', 'Etudiant 22', 'Etudiant 23', 'Etudiant 24', 'Etudiant 25', 'Etudiant 26', 'Etudiant 27',\n",
    "                 'Etudiant 28', 'Etudiant 29', 'Etudiant 30'],\n",
    "    'Taille (en cm)': [154, 155, 157, 159, 159, 160, 161, 164, 164, 164,\n",
    "                       165, 168, 168, 168, 170, 170, 175, 175, 178, 179, \n",
    "                       180, 183, 184, 185, 186, 187,188, 188, 189, 190],\n",
    "    'poids (en kg)': [100, 50, 80, 59, 90, 69, 61, 85.6, 83.2, 86.4,\n",
    "                       69.5, 90.3, 68, 88, 70, 80, 95, 75, 68, 99, \n",
    "                       70, 103, 144, 105, 86, 87.9 ,80.8, 89.8, 98.9, 190],\n",
    "})\n",
    "\n",
    "data_etudiant.head()"
   ]
  },
  {
   "cell_type": "code",
   "execution_count": 26,
   "id": "5cfd7656-0234-4d88-8990-2bc2807f8617",
   "metadata": {},
   "outputs": [
    {
     "data": {
      "text/html": [
       "<div>\n",
       "<style scoped>\n",
       "    .dataframe tbody tr th:only-of-type {\n",
       "        vertical-align: middle;\n",
       "    }\n",
       "\n",
       "    .dataframe tbody tr th {\n",
       "        vertical-align: top;\n",
       "    }\n",
       "\n",
       "    .dataframe thead th {\n",
       "        text-align: right;\n",
       "    }\n",
       "</style>\n",
       "<table border=\"1\" class=\"dataframe\">\n",
       "  <thead>\n",
       "    <tr style=\"text-align: right;\">\n",
       "      <th></th>\n",
       "      <th>Taille (en cm)</th>\n",
       "      <th>poids (en kg)</th>\n",
       "    </tr>\n",
       "  </thead>\n",
       "  <tbody>\n",
       "    <tr>\n",
       "      <th>count</th>\n",
       "      <td>30.000000</td>\n",
       "      <td>30.000000</td>\n",
       "    </tr>\n",
       "    <tr>\n",
       "      <th>mean</th>\n",
       "      <td>172.433333</td>\n",
       "      <td>87.413333</td>\n",
       "    </tr>\n",
       "    <tr>\n",
       "      <th>std</th>\n",
       "      <td>11.565953</td>\n",
       "      <td>26.286534</td>\n",
       "    </tr>\n",
       "    <tr>\n",
       "      <th>min</th>\n",
       "      <td>154.000000</td>\n",
       "      <td>50.000000</td>\n",
       "    </tr>\n",
       "    <tr>\n",
       "      <th>25%</th>\n",
       "      <td>164.000000</td>\n",
       "      <td>70.000000</td>\n",
       "    </tr>\n",
       "    <tr>\n",
       "      <th>50%</th>\n",
       "      <td>170.000000</td>\n",
       "      <td>85.800000</td>\n",
       "    </tr>\n",
       "    <tr>\n",
       "      <th>75%</th>\n",
       "      <td>183.750000</td>\n",
       "      <td>93.825000</td>\n",
       "    </tr>\n",
       "    <tr>\n",
       "      <th>max</th>\n",
       "      <td>190.000000</td>\n",
       "      <td>190.000000</td>\n",
       "    </tr>\n",
       "  </tbody>\n",
       "</table>\n",
       "</div>"
      ],
      "text/plain": [
       "       Taille (en cm)  poids (en kg)\n",
       "count       30.000000      30.000000\n",
       "mean       172.433333      87.413333\n",
       "std         11.565953      26.286534\n",
       "min        154.000000      50.000000\n",
       "25%        164.000000      70.000000\n",
       "50%        170.000000      85.800000\n",
       "75%        183.750000      93.825000\n",
       "max        190.000000     190.000000"
      ]
     },
     "execution_count": 26,
     "metadata": {},
     "output_type": "execute_result"
    }
   ],
   "source": [
    "data_etudiant.describe()"
   ]
  },
  {
   "cell_type": "code",
   "execution_count": 24,
   "id": "684c89a0-2c03-4072-aba9-1009f03e2eb1",
   "metadata": {},
   "outputs": [
    {
     "data": {
      "text/plain": [
       "<Axes: xlabel='Taille (en cm)', ylabel='poids (en kg)'>"
      ]
     },
     "execution_count": 24,
     "metadata": {},
     "output_type": "execute_result"
    },
    {
     "data": {
      "image/png": "[encoded data removed]",
      "text/plain": [
       "<Figure size 640x480 with 1 Axes>"
      ]
     },
     "metadata": {},
     "output_type": "display_data"
    }
   ],
   "source": [
    "sns.scatterplot(x='Taille (en cm)', y= 'poids (en kg)', data = data_etudiant)"
   ]
  }
 ],
 "metadata": {
  "kernelspec": {
   "display_name": "Python 3 (ipykernel)",
   "language": "python",
   "name": "python3"
  },
  "language_info": {
   "codemirror_mode": {
    "name": "ipython",
    "version": 3
   },
   "file_extension": ".py",
   "mimetype": "text/x-python",
   "name": "python",
   "nbconvert_exporter": "python",
   "pygments_lexer": "ipython3",
   "version": "3.11.7"
  }
 },
 "nbformat": 4,
 "nbformat_minor": 5
}
