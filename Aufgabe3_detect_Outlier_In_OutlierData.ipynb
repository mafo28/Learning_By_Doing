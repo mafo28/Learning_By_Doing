{
 "cells": [
  {
   "cell_type": "code",
   "execution_count": 15,
   "id": "9a5d0e05-f022-4c10-88bd-0b286ee16b7c",
   "metadata": {},
   "outputs": [],
   "source": [
    "import pandas as pd\n",
    "from sklearn.ensemble import IsolationForest"
   ]
  },
  {
   "cell_type": "code",
   "execution_count": 16,
   "id": "1d189ff7-a140-4eba-afd7-3bdd65b33187",
   "metadata": {
    "scrolled": true
   },
   "outputs": [
    {
     "name": "stdout",
     "output_type": "stream",
     "text": [
      "Outlier at index 500: X1=0.0, X2=0.0, X3=0.9\n"
     ]
    },
    {
     "name": "stderr",
     "output_type": "stream",
     "text": [
      "C:\\Desktop\\Lib\\site-packages\\sklearn\\base.py:439: UserWarning: X does not have valid feature names, but IsolationForest was fitted with feature names\n",
      "  warnings.warn(\n"
     ]
    }
   ],
   "source": [
    "# dataset lesen\n",
    "outlier_3d = pd.read_csv('3doutlier.data', delimiter=',', header=None, names=['X1', 'X2', 'X3'])\n",
    "\n",
    "# finde die Ausreßer mit IsolationForest\n",
    "iso = IsolationForest(contamination=0.001, random_state=42)\n",
    "outliers_pred = iso.fit_predict(outlier_3d)\n",
    "\n",
    "# Die Ausreißer werden eine Wert -1 haben\n",
    "outlier_indices = outlier_3d[outliers_pred == -1].index\n",
    "outliers = outlier_3d.loc[outlier_indices]\n",
    "\n",
    "# Print outlierswert\n",
    "for idx, outlier in outliers.iterrows():\n",
    "    print(f\"Outlier at index {idx}: X1={outlier['X1']}, X2={outlier['X2']}, X3={outlier['X3']}\")\n"
   ]
  },
  {
   "cell_type": "code",
   "execution_count": null,
   "id": "abb2de61-7442-4f8e-85b9-fd3e8411a542",
   "metadata": {},
   "outputs": [],
   "source": []
  }
 ],
 "metadata": {
  "kernelspec": {
   "display_name": "Python 3 (ipykernel)",
   "language": "python",
   "name": "python3"
  },
  "language_info": {
   "codemirror_mode": {
    "name": "ipython",
    "version": 3
   },
   "file_extension": ".py",
   "mimetype": "text/x-python",
   "name": "python",
   "nbconvert_exporter": "python",
   "pygments_lexer": "ipython3",
   "version": "3.11.7"
  }
 },
 "nbformat": 4,
 "nbformat_minor": 5
}
