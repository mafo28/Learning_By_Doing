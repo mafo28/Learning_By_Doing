{
 "cells": [
  {
   "cell_type": "code",
   "execution_count": 1,
   "id": "426396d7-25b0-4e53-8948-1e9fb7cc7c3a",
   "metadata": {},
   "outputs": [],
   "source": [
    "import pandas as pd\n",
    "from sklearn.datasets import load_iris\n",
    "import seaborn as sns\n",
    "from sklearn.tree import DecisionTreeClassifier"
   ]
  },
  {
   "cell_type": "code",
   "execution_count": 14,
   "id": "b6ee7880-86aa-4d12-b563-da4c75d3e6e7",
   "metadata": {},
   "outputs": [
    {
     "data": {
      "text/html": [
       "<div>\n",
       "<style scoped>\n",
       "    .dataframe tbody tr th:only-of-type {\n",
       "        vertical-align: middle;\n",
       "    }\n",
       "\n",
       "    .dataframe tbody tr th {\n",
       "        vertical-align: top;\n",
       "    }\n",
       "\n",
       "    .dataframe thead th {\n",
       "        text-align: right;\n",
       "    }\n",
       "</style>\n",
       "<table border=\"1\" class=\"dataframe\">\n",
       "  <thead>\n",
       "    <tr style=\"text-align: right;\">\n",
       "      <th></th>\n",
       "      <th>sepal length (cm)</th>\n",
       "      <th>sepal width (cm)</th>\n",
       "      <th>petal length (cm)</th>\n",
       "      <th>petal width (cm)</th>\n",
       "    </tr>\n",
       "  </thead>\n",
       "  <tbody>\n",
       "    <tr>\n",
       "      <th>0</th>\n",
       "      <td>5.1</td>\n",
       "      <td>3.5</td>\n",
       "      <td>1.4</td>\n",
       "      <td>0.2</td>\n",
       "    </tr>\n",
       "    <tr>\n",
       "      <th>1</th>\n",
       "      <td>4.9</td>\n",
       "      <td>3.0</td>\n",
       "      <td>1.4</td>\n",
       "      <td>0.2</td>\n",
       "    </tr>\n",
       "    <tr>\n",
       "      <th>2</th>\n",
       "      <td>4.7</td>\n",
       "      <td>3.2</td>\n",
       "      <td>1.3</td>\n",
       "      <td>0.2</td>\n",
       "    </tr>\n",
       "    <tr>\n",
       "      <th>3</th>\n",
       "      <td>4.6</td>\n",
       "      <td>3.1</td>\n",
       "      <td>1.5</td>\n",
       "      <td>0.2</td>\n",
       "    </tr>\n",
       "    <tr>\n",
       "      <th>4</th>\n",
       "      <td>5.0</td>\n",
       "      <td>3.6</td>\n",
       "      <td>1.4</td>\n",
       "      <td>0.2</td>\n",
       "    </tr>\n",
       "  </tbody>\n",
       "</table>\n",
       "</div>"
      ],
      "text/plain": [
       "   sepal length (cm)  sepal width (cm)  petal length (cm)  petal width (cm)\n",
       "0                5.1               3.5                1.4               0.2\n",
       "1                4.9               3.0                1.4               0.2\n",
       "2                4.7               3.2                1.3               0.2\n",
       "3                4.6               3.1                1.5               0.2\n",
       "4                5.0               3.6                1.4               0.2"
      ]
     },
     "execution_count": 14,
     "metadata": {},
     "output_type": "execute_result"
    }
   ],
   "source": [
    "iris = load_iris()\n",
    "data = pd.DataFrame(iris.data, columns=iris.feature_names)\n",
    "data.head()"
   ]
  },
  {
   "cell_type": "code",
   "execution_count": 15,
   "id": "381d151a-8e57-4add-963d-8e474106f227",
   "metadata": {},
   "outputs": [],
   "source": [
    "labels = pd.Categorical.from_codes(iris.target, iris.target_names)"
   ]
  },
  {
   "cell_type": "code",
   "execution_count": 16,
   "id": "ce82fb6f-394d-4f2b-96e9-9033d06e57b2",
   "metadata": {},
   "outputs": [
    {
     "data": {
      "text/html": [
       "<div>\n",
       "<style scoped>\n",
       "    .dataframe tbody tr th:only-of-type {\n",
       "        vertical-align: middle;\n",
       "    }\n",
       "\n",
       "    .dataframe tbody tr th {\n",
       "        vertical-align: top;\n",
       "    }\n",
       "\n",
       "    .dataframe thead th {\n",
       "        text-align: right;\n",
       "    }\n",
       "</style>\n",
       "<table border=\"1\" class=\"dataframe\">\n",
       "  <thead>\n",
       "    <tr style=\"text-align: right;\">\n",
       "      <th></th>\n",
       "      <th>Variable</th>\n",
       "      <th>Importance</th>\n",
       "    </tr>\n",
       "  </thead>\n",
       "  <tbody>\n",
       "    <tr>\n",
       "      <th>0</th>\n",
       "      <td>petal width (cm)</td>\n",
       "      <td>0.922611</td>\n",
       "    </tr>\n",
       "    <tr>\n",
       "      <th>1</th>\n",
       "      <td>petal length (cm)</td>\n",
       "      <td>0.064056</td>\n",
       "    </tr>\n",
       "    <tr>\n",
       "      <th>2</th>\n",
       "      <td>sepal width (cm)</td>\n",
       "      <td>0.013333</td>\n",
       "    </tr>\n",
       "    <tr>\n",
       "      <th>3</th>\n",
       "      <td>sepal length (cm)</td>\n",
       "      <td>0.000000</td>\n",
       "    </tr>\n",
       "  </tbody>\n",
       "</table>\n",
       "</div>"
      ],
      "text/plain": [
       "            Variable  Importance\n",
       "0   petal width (cm)    0.922611\n",
       "1  petal length (cm)    0.064056\n",
       "2   sepal width (cm)    0.013333\n",
       "3  sepal length (cm)    0.000000"
      ]
     },
     "execution_count": 16,
     "metadata": {},
     "output_type": "execute_result"
    }
   ],
   "source": [
    "#Ml Model\n",
    "def GenerateDTreeFrom_nD_Data(Data, Labels, Metric=\"gini\"):\n",
    "    dtree = DecisionTreeClassifier(criterion=Metric)\n",
    "    dtree.fit(Data, Labels)\n",
    "    return dtree\n",
    "    \n",
    "#new instance of my Decision Tree\n",
    "gdtree = GenerateDTreeFrom_nD_Data(data, labels, Metric=\"gini\")\n",
    "\n",
    "# get the importance of variables of my dataset\n",
    "importance = gdtree.feature_importances_\n",
    "\n",
    "importance_df = pd.DataFrame({'Variable': data.columns, 'Importance': importance})\n",
    "\n",
    "importance_df = importance_df.sort_values(by='Importance', ascending=False).reset_index(drop=True)\n",
    "importance_df"
   ]
  },
  {
   "cell_type": "code",
   "execution_count": 18,
   "id": "15c90e1a-be1e-46c5-ae39-ad60e28202eb",
   "metadata": {},
   "outputs": [
    {
     "data": {
      "text/plain": [
       "<Axes: xlabel='labels', ylabel='petal width (cm)'>"
      ]
     },
     "execution_count": 18,
     "metadata": {},
     "output_type": "execute_result"
    },
    {
     "data": {
      "image/png": "[encoded data removed]",
      "text/plain": [
       "<Figure size 640x480 with 1 Axes>"
      ]
     },
     "metadata": {},
     "output_type": "display_data"
    }
   ],
   "source": [
    "data['labels'] = labels\n",
    "sns.boxplot(data = data, x='labels' , y='petal width (cm)')"
   ]
  },
  {
   "cell_type": "code",
   "execution_count": null,
   "id": "353c909c-2332-475a-aef1-cd3fa465f0d2",
   "metadata": {},
   "outputs": [],
   "source": []
  },
  {
   "cell_type": "code",
   "execution_count": 77,
   "id": "bf319877-8693-4153-9c0a-c60d0be628e3",
   "metadata": {},
   "outputs": [
    {
     "data": {
      "text/html": [
       "<div>\n",
       "<style scoped>\n",
       "    .dataframe tbody tr th:only-of-type {\n",
       "        vertical-align: middle;\n",
       "    }\n",
       "\n",
       "    .dataframe tbody tr th {\n",
       "        vertical-align: top;\n",
       "    }\n",
       "\n",
       "    .dataframe thead th {\n",
       "        text-align: right;\n",
       "    }\n",
       "</style>\n",
       "<table border=\"1\" class=\"dataframe\">\n",
       "  <thead>\n",
       "    <tr style=\"text-align: right;\">\n",
       "      <th></th>\n",
       "      <th>sepal length (cm)</th>\n",
       "      <th>sepal width (cm)</th>\n",
       "      <th>petal length (cm)</th>\n",
       "      <th>petal width (cm)</th>\n",
       "      <th>labels</th>\n",
       "    </tr>\n",
       "  </thead>\n",
       "  <tbody>\n",
       "    <tr>\n",
       "      <th>23</th>\n",
       "      <td>5.1</td>\n",
       "      <td>3.3</td>\n",
       "      <td>1.7</td>\n",
       "      <td>0.5</td>\n",
       "      <td>setosa</td>\n",
       "    </tr>\n",
       "    <tr>\n",
       "      <th>43</th>\n",
       "      <td>5.0</td>\n",
       "      <td>3.5</td>\n",
       "      <td>1.6</td>\n",
       "      <td>0.6</td>\n",
       "      <td>setosa</td>\n",
       "    </tr>\n",
       "  </tbody>\n",
       "</table>\n",
       "</div>"
      ],
      "text/plain": [
       "    sepal length (cm)  sepal width (cm)  petal length (cm)  petal width (cm)  \\\n",
       "23                5.1               3.3                1.7               0.5   \n",
       "43                5.0               3.5                1.6               0.6   \n",
       "\n",
       "    labels  \n",
       "23  setosa  \n",
       "43  setosa  "
      ]
     },
     "execution_count": 77,
     "metadata": {},
     "output_type": "execute_result"
    }
   ],
   "source": [
    "outliers = data[(data['labels'] == 'setosa') & (data['petal width (cm)'] > 0.4) & (data['petal width (cm)'] < 1.0)]\n",
    "outliers"
   ]
  },
  {
   "cell_type": "code",
   "execution_count": 27,
   "id": "e1b1b3bd-a3db-4308-8e72-1cfb5c574591",
   "metadata": {
    "scrolled": true
   },
   "outputs": [
    {
     "name": "stdout",
     "output_type": "stream",
     "text": [
      "Die Ausreißer sind:       sepal length (cm)  sepal width (cm)  petal length (cm)  petal width (cm)  \\\n",
      "129                7.2               3.0                5.8               1.6   \n",
      "130                7.4               2.8                6.1               1.9   \n",
      "131                7.9               3.8                6.4               2.0   \n",
      "4                  5.0               3.6                1.4               0.2   \n",
      "5                  5.4               3.9                1.7               0.4   \n",
      "135                7.7               3.0                6.1               2.3   \n",
      "10                 5.4               3.7                1.5               0.2   \n",
      "14                 5.8               4.0                1.2               0.2   \n",
      "15                 5.7               4.4                1.5               0.4   \n",
      "16                 5.4               3.9                1.3               0.4   \n",
      "18                 5.7               3.8                1.7               0.3   \n",
      "19                 5.1               3.8                1.5               0.3   \n",
      "21                 5.1               3.7                1.5               0.4   \n",
      "22                 4.6               3.6                1.0               0.2   \n",
      "32                 5.2               4.1                1.5               0.1   \n",
      "33                 5.5               4.2                1.4               0.2   \n",
      "37                 4.9               3.6                1.4               0.1   \n",
      "44                 5.1               3.8                1.9               0.4   \n",
      "46                 5.1               3.8                1.6               0.2   \n",
      "48                 5.3               3.7                1.5               0.2   \n",
      "60                 5.0               2.0                3.5               1.0   \n",
      "102                7.1               3.0                5.9               2.1   \n",
      "105                7.6               3.0                6.6               2.1   \n",
      "107                7.3               2.9                6.3               1.8   \n",
      "109                7.2               3.6                6.1               2.5   \n",
      "117                7.7               3.8                6.7               2.2   \n",
      "118                7.7               2.6                6.9               2.3   \n",
      "122                7.7               2.8                6.7               2.0   \n",
      "125                7.2               3.2                6.0               1.8   \n",
      "\n",
      "         labels  \n",
      "129   virginica  \n",
      "130   virginica  \n",
      "131   virginica  \n",
      "4        setosa  \n",
      "5        setosa  \n",
      "135   virginica  \n",
      "10       setosa  \n",
      "14       setosa  \n",
      "15       setosa  \n",
      "16       setosa  \n",
      "18       setosa  \n",
      "19       setosa  \n",
      "21       setosa  \n",
      "22       setosa  \n",
      "32       setosa  \n",
      "33       setosa  \n",
      "37       setosa  \n",
      "44       setosa  \n",
      "46       setosa  \n",
      "48       setosa  \n",
      "60   versicolor  \n",
      "102   virginica  \n",
      "105   virginica  \n",
      "107   virginica  \n",
      "109   virginica  \n",
      "117   virginica  \n",
      "118   virginica  \n",
      "122   virginica  \n",
      "125   virginica  \n"
     ]
    },
    {
     "name": "stderr",
     "output_type": "stream",
     "text": [
      "C:\\Users\\#\\AppData\\Local\\Temp\\ipykernel_9124\\2652756962.py:12: FutureWarning: Passing a set as an indexer is deprecated and will raise in a future version. Use a list instead.\n",
      "  outliers = data.loc[outliers_idx]\n"
     ]
    }
   ],
   "source": [
    "outliers_idx = set()\n",
    "for column in data.columns[:-1]:  # Alle Spalte außer die Letzte , also außer die labels Spalte\n",
    "    Q1 = data[column].quantile(0.25)\n",
    "    Q3 = data[column].quantile(0.75)\n",
    "    IQR = Q3 - Q1\n",
    "\n",
    "    lw_bound = Q1 - 1.5 * IQR\n",
    "    up_bound = Q1 + 1.5 * IQR\n",
    "    outliers = data[(data[column]< lw_bound) | (data[column]> up_bound)].index\n",
    "    outliers_idx.update(outliers)\n",
    "    \n",
    "outliers = data.loc[outliers_idx]\n",
    "print('Die Ausreißer sind: ', outliers)\n",
    "#outliers = data[((data['labels'] == 'setosa') & (data['petal width (cm)']< lw_bound)) | ((data['labels'] == 'setosa') & (data['petal width (cm)']> up_bound))]\n"
   ]
  },
  {
   "cell_type": "code",
   "execution_count": 29,
   "id": "5e6df7c2-3b35-43e0-9910-31f44e17cffb",
   "metadata": {},
   "outputs": [
    {
     "name": "stdout",
     "output_type": "stream",
     "text": [
      "   sepal length (cm)  sepal width (cm)  petal length (cm)  petal width (cm)  \\\n",
      "0                5.7               4.4                1.5               0.4   \n",
      "1                4.5               2.3                1.3               0.3   \n",
      "2                5.1               2.5                3.0               1.1   \n",
      "3                7.7               3.8                6.7               2.2   \n",
      "4                7.7               2.6                6.9               2.3   \n",
      "5                7.9               3.8                6.4               2.0   \n",
      "\n",
      "   target  \n",
      "0       0  \n",
      "1       0  \n",
      "2       1  \n",
      "3       2  \n",
      "4       2  \n",
      "5       2  \n"
     ]
    }
   ],
   "source": [
    "from sklearn.neighbors import LocalOutlierFactor\n",
    "import numpy as np\n",
    "\n",
    "X = iris.data\n",
    "y = iris.target\n",
    "\n",
    "# finde die Ausreßer mit LocalOutlierFactor\n",
    "lof = LocalOutlierFactor()\n",
    "outliers_pred = lof.fit_predict(X)\n",
    "\n",
    "# Die Ausreißer werden eine Wert -1 haben\n",
    "outliers = X[outliers_pred == -1]\n",
    "outliers_indices = np.where(outliers_pred == -1)[0]\n",
    "\n",
    "# erstelle eine DataFrame für outliers\n",
    "outliers_df = pd.DataFrame(outliers, columns=iris.feature_names)\n",
    "outliers_df['target'] = y[outliers_indices]\n",
    "\n",
    "print(outliers_df)"
   ]
  }
 ],
 "metadata": {
  "kernelspec": {
   "display_name": "Python 3 (ipykernel)",
   "language": "python",
   "name": "python3"
  },
  "language_info": {
   "codemirror_mode": {
    "name": "ipython",
    "version": 3
   },
   "file_extension": ".py",
   "mimetype": "text/x-python",
   "name": "python",
   "nbconvert_exporter": "python",
   "pygments_lexer": "ipython3",
   "version": "3.11.7"
  }
 },
 "nbformat": 4,
 "nbformat_minor": 5
}
